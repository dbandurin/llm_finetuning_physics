{
  "nbformat": 4,
  "nbformat_minor": 0,
  "metadata": {
    "colab": {
      "provenance": [],
      "gpuType": "T4"
    },
    "kernelspec": {
      "name": "python3",
      "display_name": "Python 3"
    },
    "language_info": {
      "name": "python"
    },
    "accelerator": "GPU"
  },
  "cells": [
    {
      "cell_type": "code",
      "source": [
        "#!pip install unsloth torch"
      ],
      "metadata": {
        "id": "GWW0iRcwiLJK"
      },
      "execution_count": 5,
      "outputs": []
    },
    {
      "cell_type": "code",
      "source": [
        "from unsloth import FastLanguageModel\n",
        "import torch\n",
        "\n",
        "# Load your merged model from HuggingFace\n",
        "model_name = \"bandurin/hep-physics-llm-3b-finetuned\"  # Your merged model\n",
        "\n",
        "print(\"Loading model from HuggingFace...\")\n",
        "model, tokenizer = FastLanguageModel.from_pretrained(\n",
        "    model_name=model_name,\n",
        "    max_seq_length=2048,\n",
        "    dtype=None,\n",
        "    load_in_4bit=True,  # Use 4-bit for efficiency\n",
        ")\n",
        "\n",
        "# Enable inference mode\n",
        "FastLanguageModel.for_inference(model)\n",
        "print(\"Model loaded successfully!\")"
      ],
      "metadata": {
        "colab": {
          "base_uri": "https://localhost:8080/"
        },
        "id": "m2Dgrh5MjC_q",
        "outputId": "acc38dee-bbd7-4c0e-95b8-cc5de8a4c8cb"
      },
      "execution_count": 9,
      "outputs": [
        {
          "output_type": "stream",
          "name": "stdout",
          "text": [
            "Loading model from HuggingFace...\n",
            "==((====))==  Unsloth 2025.9.11: Fast Llama patching. Transformers: 4.56.1.\n",
            "   \\\\   /|    Tesla T4. Num GPUs = 1. Max memory: 14.741 GB. Platform: Linux.\n",
            "O^O/ \\_/ \\    Torch: 2.8.0+cu126. CUDA: 7.5. CUDA Toolkit: 12.6. Triton: 3.4.0\n",
            "\\        /    Bfloat16 = FALSE. FA [Xformers = 0.0.32.post2. FA2 = False]\n",
            " \"-____-\"     Free license: http://github.com/unslothai/unsloth\n",
            "Unsloth: Fast downloading is enabled - ignore downloading bars which are red colored!\n"
          ]
        },
        {
          "output_type": "stream",
          "name": "stderr",
          "text": [
            "Unsloth 2025.9.11 patched 28 layers with 0 QKV layers, 0 O layers and 0 MLP layers.\n"
          ]
        },
        {
          "output_type": "stream",
          "name": "stdout",
          "text": [
            "Model loaded successfully!\n"
          ]
        }
      ]
    },
    {
      "cell_type": "code",
      "source": [
        "# System prompt\n",
        "SYSTEM_PROMPT = \"\"\"You are an expert in particle physics, specializing in experimental techniques\n",
        "                   at collider experiments like the Tevatron and LHC.\n",
        "                   You have deep knowledge of neural networks for particle identification, jet physics, calorimetry,\n",
        "                   and data analysis methods. Provide accurate, detailed responses citing experimental\n",
        "                   methods and results when relevant.\"\"\"\n",
        "\n",
        "def ask_question(question):\n",
        "    messages = [\n",
        "        {\"role\": \"system\", \"content\": SYSTEM_PROMPT},\n",
        "        {\"role\": \"user\", \"content\": question}\n",
        "    ]\n",
        "\n",
        "    inputs = tokenizer.apply_chat_template(\n",
        "        messages,\n",
        "        tokenize=True,\n",
        "        add_generation_prompt=True,\n",
        "        return_tensors=\"pt\"\n",
        "    ).to(\"cuda\")\n",
        "\n",
        "    outputs = model.generate(\n",
        "        inputs,\n",
        "        max_new_tokens=512,\n",
        "        temperature=0.7,\n",
        "        top_p=0.9,\n",
        "        do_sample=True,\n",
        "    )\n",
        "\n",
        "    response = tokenizer.decode(outputs[0], skip_special_tokens=True)\n",
        "    # Extract just the assistant's response\n",
        "    response = response.split(\"assistant\\n\\n\")[-1]\n",
        "    return response"
      ],
      "metadata": {
        "id": "UQfWAt_mkNsS"
      },
      "execution_count": 10,
      "outputs": []
    },
    {
      "cell_type": "code",
      "source": [
        "# Test it\n",
        "questions = [\n",
        "    \"What are the main components of the D0 detector?\",\n",
        "    \"How do electromagnetic calorimeters work?\",\n",
        "    \"What is jet physics in particle colliders?\"\n",
        "]\n",
        "\n",
        "for q in questions:\n",
        "    print(f\"\\nQuestion: {q}\")\n",
        "    print(f\"Answer: {ask_question(q)}\")\n",
        "    print(\"-\" * 70)"
      ],
      "metadata": {
        "colab": {
          "base_uri": "https://localhost:8080/"
        },
        "id": "0n03kkCRkuNh",
        "outputId": "c8d6d5af-6a58-49ac-eb2d-00040975f5d2"
      },
      "execution_count": 11,
      "outputs": [
        {
          "output_type": "stream",
          "name": "stdout",
          "text": [
            "\n",
            "Question: What are the main components of the D0 detector?\n",
            "Answer: The D0 detector at Fermilab consists of several key components:\n",
            "\n",
            "1. Central Tracker: A silicon-based tracker that provides precise position and momentum measurements for charged particles. It's divided into layers with varying thickness and material content for better energy resolution and particle identification.\n",
            "2. Muon System: A hybrid system combining gas-based muon chambers with drift chambers to detect and measure muons. It provides excellent tracking and momentum measurements for muons.\n",
            "3. Electromagnetic Calorimeter (EMC): A scintillator-based calorimeter that measures electromagnetic energy with high precision. It's divided into barrel and endcap sections with varying thickness and material content.\n",
            "4. Hadronic Calorimeter (HCal): A scintillator-based calorimeter that measures hadronic energy with moderate precision. It's divided into barrel and endcap sections with varying thickness and material content.\n",
            "5. Outer muon system: A system of gas-based muon chambers that provide additional coverage for muon detection.\n",
            "6. Cherenkov Counter: A gas-filled counter that detects charged particles with high precision, particularly for muons.\n",
            "7. Scintillator Hodoscope (SHT): A scintillator-based hodoscope that measures particle transverse momentum with high precision.\n",
            "8. Central Trigger System: A system of fast electronics that provides primary particle identification and triggers.\n",
            "9. Data Acquisition System: A system that captures and processes data from the detector components.\n",
            "\n",
            "These components work together to provide precise measurements of particle properties, including momentum, energy, and identification.\n",
            "----------------------------------------------------------------------\n",
            "\n",
            "Question: How do electromagnetic calorimeters work?\n",
            "Answer: Electromagnetic calorimeters (EMC) at collider experiments like the Tevatron and LHC measure electromagnetic energy deposited in a material. They're crucial for identifying photons, electrons, and electrons from neutrino-induced events. Here's a simplified overview:\n",
            "\n",
            "**Design:**\n",
            "\n",
            "1. **Scintillating material:** The EMC is composed of scintillating material (e.g., plastic scintillator) with high density and low atomic number, ensuring efficient conversion of electromagnetic energy into light.\n",
            "2. **Optical fibers:** Light produced by scintillations is transferred to optical fibers for transport to photomultiplier tubes (PMTs).\n",
            "3. **PMTs:** PMTs convert light into electron pulses, which are then amplified and processed.\n",
            "\n",
            "**Operation:**\n",
            "\n",
            "1. **Electromagnetic shower:** When an electromagnetic particle enters the EMC, it produces an electromagnetic shower, depositing energy in the scintillating material.\n",
            "2. **Light collection:** The scintillator light is collected by optical fibers and transported to PMTs.\n",
            "3. **Signal processing:** PMTs amplify and process the electron pulses, producing a signal proportional to the energy deposited.\n",
            "4. **Energy measurement:** The signal is calibrated to measure energy, using techniques like linear extrapolation and reference methods (e.g., calorimeter-to-calorimeter comparison).\n",
            "\n",
            "**Performance:**\n",
            "\n",
            "1. **Energy resolution:** Typical resolutions are 1-5% at low energies (1-10 GeV) and 10-20% at high energies (50-100 GeV).\n",
            "2. **Energy resolution at high energy:** At very high energies (>100 GeV), the resolution improves due to the use of higher-density materials and more efficient light collection.\n",
            "3. **Electromagnetic shower profile:** The shower profile is crucial for distinguishing between photons and hadrons. The EMC measures the shower profile using various methods, including direct measurement, indirect measurement via jet calorimetry, and shower profile analysis.\n",
            "\n",
            "**Challenges:**\n",
            "\n",
            "1. **Scintillator material:** The choice of scintillator material affects energy resolution and light yield.\n",
            "2. **Optical fiber design:** The design of optical fibers influences light collection efficiency and signal resolution.\n",
            "3. **PMT performance:** PMT performance affects signal resolution and noise levels.\n",
            "\n",
            "By optimizing the EMC design, operation, and performance, collider experiments can achieve precise electromagnetic energy measurements, enabling accurate identification of photons, electrons, and neutrino-induced events.\n",
            "----------------------------------------------------------------------\n",
            "\n",
            "Question: What is jet physics in particle colliders?\n",
            "Answer: Jet physics is a crucial aspect of particle colliders like the Tevatron and LHC, where jets are formed when energetic quarks or gluons collide with the calorimeter. Jets contain hadronic particles produced in hard interactions, and their properties provide insights into particle physics processes.\n",
            "\n",
            "**Jet identification:**\n",
            "\n",
            "1. **Constituent jet identification**: Identify the hadronic constituents within a jet using neural networks trained on particle-level data.\n",
            "2. **Jet flavor**: Determine the flavor of the jet (b, c, or light quarks) based on neural network predictions or track characteristics.\n",
            "3. **Jet energy resolution**: Measure the jet energy resolution using track measurements or neural networks trained on energy-dependent data.\n",
            "\n",
            "**Jet properties:**\n",
            "\n",
            "1. **Jet energy**: Measure jet energy using calorimeter measurements, including neutral energy (NE), electromagnetic energy (EM), and total energy (TE).\n",
            "2. **Jet energy resolution**: Measure the jet energy resolution using track measurements or neural networks trained on energy-dependent data.\n",
            "3. **Jet momentum**: Measure jet momentum using calorimeter measurements or neural networks trained on momentum-dependent data.\n",
            "4. **Jet angular**: Measure jet angular using track measurements or neural networks trained on angular-dependent data.\n",
            "\n",
            "**Jet physics applications:**\n",
            "\n",
            "1. **Higgs boson production**: Study Higgs boson production in association with jets using neural networks trained on data from the Tevatron and LHC.\n",
            "2. **W and Z boson production**: Study W and Z boson production in association with jets using neural networks trained on data from the Tevatron and LHC.\n",
            "3. **QCD processes**: Study QCD processes, such as dijet production and jet fragmentation, using neural networks trained on data from the Tevatron and LHC.\n",
            "4. **Top quark physics**: Study top quark physics using neural networks trained on data from the Tevatron and LHC.\n",
            "\n",
            "By studying jet physics, experimentalists can gain insights into particle-level processes, improve jet identification algorithms, and enhance experimental sensitivity to rare processes.\n",
            "----------------------------------------------------------------------\n"
          ]
        }
      ]
    },
    {
      "cell_type": "code",
      "source": [],
      "metadata": {
        "id": "dyZOQbHxkw_b"
      },
      "execution_count": null,
      "outputs": []
    }
  ]
}